{
 "cells": [
  {
   "cell_type": "markdown",
   "id": "03fedbf5",
   "metadata": {},
   "source": [
    "# Basic setup"
   ]
  },
  {
   "cell_type": "code",
   "execution_count": 7,
   "id": "e6f8b3b4",
   "metadata": {},
   "outputs": [],
   "source": [
    "import numpy as np # linear algebra\n",
    "\n",
    "np.random.seed(42) # sets the random seed for reproducibility"
   ]
  },
  {
   "cell_type": "markdown",
   "id": "88246669",
   "metadata": {},
   "source": [
    "create the `images` folder (if it doesn't already exist), and define the `save_fig()` function which is used through this notebook to save the figures in high-resolution"
   ]
  },
  {
   "cell_type": "code",
   "execution_count": 8,
   "id": "baba4903",
   "metadata": {},
   "outputs": [],
   "source": [
    "from pathlib import Path\n",
    "\n",
    "IMAGES_PATH = Path() / \"images\"\n",
    "IMAGES_PATH.mkdir(parents=True, exist_ok=True)\n",
    "\n",
    "def save_fig(fig_id, tight_layout=True, fig_extension=\"png\", resolution=300):\n",
    "    path = IMAGES_PATH / f\"{fig_id}.{fig_extension}\"\n",
    "    if tight_layout:\n",
    "        plt.tight_layout()\n",
    "    plt.savefig(path, format=fig_extension, dpi=resolution)"
   ]
  },
  {
   "cell_type": "markdown",
   "id": "23d34183",
   "metadata": {},
   "source": [
    "# Basic concepts"
   ]
  },
  {
   "cell_type": "code",
   "execution_count": 9,
   "id": "bd69e759",
   "metadata": {},
   "outputs": [],
   "source": [
    "m = 4 # number of instances\n",
    "n = 3 # number of features including bias term"
   ]
  },
  {
   "cell_type": "code",
   "execution_count": 10,
   "id": "ae290d7d",
   "metadata": {},
   "outputs": [
    {
     "data": {
      "text/plain": [
       "array([[7],\n",
       "       [4],\n",
       "       [8]], dtype=int32)"
      ]
     },
     "execution_count": 10,
     "metadata": {},
     "output_type": "execute_result"
    }
   ],
   "source": [
    "xi = np.random.randint(1, 10, n).reshape(n,1)  # generates 3 random integers between 1 and 10\n",
    "xi # shows the feature vector (column) of the ith instance"
   ]
  },
  {
   "cell_type": "code",
   "execution_count": 11,
   "id": "878c7fc4",
   "metadata": {},
   "outputs": [
    {
     "data": {
      "text/plain": [
       "array([[1, 1, 1, 1],\n",
       "       [8, 5, 4, 8],\n",
       "       [8, 3, 6, 5]], dtype=int32)"
      ]
     },
     "execution_count": 11,
     "metadata": {},
     "output_type": "execute_result"
    }
   ],
   "source": [
    "\n",
    "X = np.random.randint(1, 10, n*m).reshape(n, m) # generates 12 random integers between 1 and 10 and reshapes them into a 3x4 matrix\n",
    "\n",
    "X[0] = 1 # sets the first row to 1 to represent the bias feature\n",
    "\n",
    "X # shows the feature matrix with 4 instances (Columns) and the first feature represent the bias feature"
   ]
  },
  {
   "cell_type": "code",
   "execution_count": 12,
   "id": "6fc2033b",
   "metadata": {},
   "outputs": [
    {
     "data": {
      "text/plain": [
       "array([[11, 17, 15, 11]], dtype=int32)"
      ]
     },
     "execution_count": 12,
     "metadata": {},
     "output_type": "execute_result"
    }
   ],
   "source": [
    "Y = np.random.randint(10, 20, 4).reshape(1, m) # generates 4 random integers between 10 and 20 and reshapes them into a 1x4 matrix\n",
    "\n",
    "Y # shows the target values for the 4 instances"
   ]
  },
  {
   "cell_type": "code",
   "execution_count": 13,
   "id": "ed3782e0",
   "metadata": {},
   "outputs": [
    {
     "data": {
      "text/plain": [
       "array([[-0.46341769],\n",
       "       [-0.46572975],\n",
       "       [ 0.24196227]])"
      ]
     },
     "execution_count": 13,
     "metadata": {},
     "output_type": "execute_result"
    }
   ],
   "source": [
    "theta = np.random.randn(n,1) # generates a 3x1 column vector of random weights (parameters) where first weight represents the bias\n",
    "\n",
    "theta"
   ]
  },
  {
   "cell_type": "code",
   "execution_count": 14,
   "id": "b01c6c93",
   "metadata": {},
   "outputs": [
    {
     "name": "stdout",
     "output_type": "stream",
     "text": [
      "[1 5 3]\n",
      "[8 5 4 8]\n"
     ]
    }
   ],
   "source": [
    "print(X[:, 1]) # shows the second instance (column) with its 3 features\n",
    "\n",
    "print(X[1]) # shows the second features (row) for all 4 instances"
   ]
  },
  {
   "cell_type": "code",
   "execution_count": 15,
   "id": "dd4bafd6",
   "metadata": {},
   "outputs": [
    {
     "data": {
      "text/plain": [
       "array([-2.06617965])"
      ]
     },
     "execution_count": 15,
     "metadata": {},
     "output_type": "execute_result"
    }
   ],
   "source": [
    "x1theta = X[:, 1]@theta # computes the dot product of the second instance's feature vector with the parameter vector theta\n",
    "# This works as while geting the features for a instance using indexing it gives the feature of the instance as a row vector 1x3,\n",
    "# but while doing the matrix multiplication with the X matrix it treats it as a column vector 3x1 so it will give error,\n",
    "# at that time we have to use the transpose on the theta vector to make it 1x3 so that the multiplication can be done\n",
    "# alternatively we can also use the np.dot() function which automatically handles the dimensions\n",
    "x1theta"
   ]
  },
  {
   "cell_type": "code",
   "execution_count": 16,
   "id": "e26c06a6",
   "metadata": {},
   "outputs": [
    {
     "name": "stdout",
     "output_type": "stream",
     "text": [
      "feature vector of the second instance (3 features):\n",
      " [1 5 3]\n",
      "target value of the second instance:\n",
      " [17]\n",
      "cost:\n",
      " [181.75960315]\n"
     ]
    }
   ],
   "source": [
    "# Linear regression Cost for a single training instance\n",
    "x1 = X[:,1] # feature vector of the second instance (3 features)\n",
    "\n",
    "print('feature vector of the second instance (3 features):\\n',x1)\n",
    "\n",
    "y1 = Y[:,1] # target value of the second instance\n",
    "\n",
    "print('target value of the second instance:\\n',y1)\n",
    "\n",
    "cost = (y1 - x1@theta)**2 / 2 # computes the cost\n",
    "\n",
    "print('cost:\\n',cost)"
   ]
  },
  {
   "cell_type": "code",
   "execution_count": 17,
   "id": "58987ad8",
   "metadata": {},
   "outputs": [
    {
     "data": {
      "text/plain": [
       "array([[-2.25355755, -2.06617965, -0.87456308, -2.97944436]])"
      ]
     },
     "execution_count": 17,
     "metadata": {},
     "output_type": "execute_result"
    }
   ],
   "source": [
    "theta.T.dot(X) # computes the predictions for all 4 instances"
   ]
  },
  {
   "cell_type": "code",
   "execution_count": 18,
   "id": "3630f945",
   "metadata": {},
   "outputs": [
    {
     "data": {
      "text/plain": [
       "array([[-2.25355755, -2.06617965, -0.87456308, -2.97944436]])"
      ]
     },
     "execution_count": 18,
     "metadata": {},
     "output_type": "execute_result"
    }
   ],
   "source": [
    "theta.T@X # computes the predictions for all 4 instances I prefer this notation"
   ]
  },
  {
   "cell_type": "markdown",
   "id": "d4564c49",
   "metadata": {},
   "source": [
    "### Reason\n",
    "Operator / Function\tName\tBehavior with NumPy Arrays\n",
    "* @ :\tInfix Operator\tPerforms true matrix multiplication.\n",
    "* \\* :\tMultiplication Operator\tPerforms element-wise multiplication. Both arrays must have the same shape.\n",
    "* numpy.dot()\t: Function / Method\tCan perform matrix multiplication, but its behavior with higher-dimensional arrays is more complex than @.\n",
    "* numpy.matmul() : Function / The underlying function that the @ operator calls. Its behavior is identical to @.\n",
    "\n",
    "Why Use @?\n",
    "\n",
    "Readability: Code using @ is much cleaner and more closely resembles mathematical notation. C = A @ B is more intuitive than C = np.matmul(A, B).\n",
    "\n",
    "Clarity: It eliminates the ambiguity of the * operator, making it clear that a matrix operation, not an element-wise one, is intended.\n",
    "\n",
    "Consistency: It provides a standard, universal operator for matrix multiplication across different Python libraries that choose to implement it.\n",
    "\n"
   ]
  },
  {
   "cell_type": "code",
   "execution_count": 19,
   "id": "bedbcd8b",
   "metadata": {},
   "outputs": [
    {
     "data": {
      "text/plain": [
       "array([[13.25355755, 19.06617965, 15.87456308, 13.97944436]])"
      ]
     },
     "execution_count": 19,
     "metadata": {},
     "output_type": "execute_result"
    }
   ],
   "source": [
    "cost_matrix = Y - theta.T@X # computes the errors for all 4 instances\n",
    "cost_matrix # matrix of shape 1x4"
   ]
  },
  {
   "cell_type": "code",
   "execution_count": 20,
   "id": "35fe30c9",
   "metadata": {},
   "outputs": [
    {
     "data": {
      "text/plain": [
       "np.float64(493.30130580701774)"
      ]
     },
     "execution_count": 20,
     "metadata": {},
     "output_type": "execute_result"
    }
   ],
   "source": [
    "Total_cost = np.sum((cost_matrix)**2) / 2 # computes the total cost for all 4 instances\n",
    "Total_cost"
   ]
  },
  {
   "cell_type": "code",
   "execution_count": 21,
   "id": "4aa26789",
   "metadata": {},
   "outputs": [
    {
     "data": {
      "text/plain": [
       "array([[ 31.08687232, 188.34658292, 164.18579981]])"
      ]
     },
     "execution_count": 21,
     "metadata": {},
     "output_type": "execute_result"
    }
   ],
   "source": [
    "# Batch Gradient Descent for Linear Regression\n",
    "Batch_gradient = 2*cost_matrix@X.T/ m # computes the batch gradient\n",
    "Batch_gradient # shape nx1"
   ]
  },
  {
   "cell_type": "markdown",
   "id": "c78e161d",
   "metadata": {},
   "source": [
    "# Linear regression from fundamentals"
   ]
  },
  {
   "cell_type": "markdown",
   "id": "40eb4ecb",
   "metadata": {},
   "source": [
    "#### Synthetic data for demonstration\n",
    "* Number of features including bias terms (n): 2\n",
    "* Number of instances (m): 1000\n",
    "\n",
    "\n"
   ]
  },
  {
   "cell_type": "code",
   "execution_count": 22,
   "id": "84d63918",
   "metadata": {},
   "outputs": [
    {
     "name": "stdout",
     "output_type": "stream",
     "text": [
      "(1, 200)\n"
     ]
    }
   ],
   "source": [
    "m = 100 # number of instances\n",
    "n = 3 # number of features including bias term \n",
    "\n",
    "X = 2 * np.random.rand(1, m)  # base variable (row vector)\n",
    "bias = np.ones((1, m))  # column of ones for bias term\n",
    "X_p = X\n",
    "for i in range(2,n):\n",
    "    X_p = np.concatenate((X_p, X**i), axis=1)\n",
    "    print(X_p.shape)\n",
    "X_p = np.concatenate((bias, X_p), axis=1).reshape(n,m)\n",
    "X_p # feature matrix with polynomial features of nxm shape where n is number of features and m is number of instances\n",
    "\n",
    "Op_theta = np.random.randint(1, 11, size=(n, 1)) # Original polynomial parameters (column vector)\n",
    "\n",
    "Y = Op_theta.T@X_p + np.random.randn(1, m)  # row vector of target values with some noise\n",
    "\n",
    "theta = np.random.randn(n,1) # random initialization of parameters"
   ]
  },
  {
   "cell_type": "code",
   "execution_count": 23,
   "id": "b22a1502",
   "metadata": {},
   "outputs": [
    {
     "name": "stdout",
     "output_type": "stream",
     "text": [
      "(1, 100) (1, 100) (3, 100) (3, 1)\n"
     ]
    }
   ],
   "source": [
    "print(X.shape, Y.shape, X_p.shape, theta.shape) # shapes of X, Y, X_p, and theta"
   ]
  },
  {
   "cell_type": "code",
   "execution_count": 24,
   "id": "71c67332",
   "metadata": {},
   "outputs": [
    {
     "data": {
      "image/png": "[encoded data removed]",
      "text/plain": [
       "<Figure size 600x400 with 1 Axes>"
      ]
     },
     "metadata": {},
     "output_type": "display_data"
    }
   ],
   "source": [
    "import matplotlib.pyplot as plt\n",
    "\n",
    "plt.figure(figsize=(6, 4)) # sets the figure size to 6 inches by 4 inches\n",
    "plt.plot(X, Y, \"b.\") # plots the data points as blue dots\n",
    "plt.xlabel(\"$x_1$\") # sets the x-axis label to \"x1\"\n",
    "plt.ylabel(\"$y$\", rotation=0) # sets the y-axis label to \"y\" with no rotation\n",
    "plt.axis([0, 2, 0, 120]) # sets the x-axis from 0 to 2 and y-axis from 0 to 120\n",
    "plt.grid() # adds a grid to the plot\n",
    "save_fig(\"generated_data_plot\") # saves the figure using the save_fig function\n",
    "plt.show()"
   ]
  },
  {
   "cell_type": "markdown",
   "id": "565f1bc4",
   "metadata": {},
   "source": [
    "#### Predict function"
   ]
  },
  {
   "cell_type": "code",
   "execution_count": 25,
   "id": "85a5a13d",
   "metadata": {},
   "outputs": [],
   "source": [
    "def predict_batch(X, theta):\n",
    "    predictions = theta.T @ X.T # computes predictions for all instances\n",
    "    return predictions"
   ]
  },
  {
   "cell_type": "markdown",
   "id": "b86886ea",
   "metadata": {},
   "source": [
    "#### Cost function"
   ]
  },
  {
   "cell_type": "code",
   "execution_count": 26,
   "id": "03af5dec",
   "metadata": {},
   "outputs": [],
   "source": [
    "\n",
    "def cost_function(X, Y, theta):\n",
    "    m = X.shape[1] # number of instances\n",
    "    cost_matrix = Y - theta.T@X # computes the errors for all instances\n",
    "    total_cost = np.sum((cost_matrix)**2) / (2 * m) # computes the total cost\n",
    "    return total_cost, cost_matrix # returns the total cost and the cost matrix"
   ]
  },
  {
   "cell_type": "markdown",
   "id": "1cbe5310",
   "metadata": {},
   "source": [
    "#### Batch Gradiant function"
   ]
  },
  {
   "cell_type": "code",
   "execution_count": 27,
   "id": "0a4e53c3",
   "metadata": {},
   "outputs": [],
   "source": [
    "def gradiant_function(X, cost_matrix):\n",
    "    m = X.shape[1] # number of instances\n",
    "    batch_gradient = 2 *cost_matrix@X.T/ m # computes the batch gradient\n",
    "    return batch_gradient # returns the batch gradient of shape nx1"
   ]
  },
  {
   "cell_type": "markdown",
   "id": "5c15eacb",
   "metadata": {},
   "source": [
    "#### Batch Gradiant Descent function"
   ]
  },
  {
   "cell_type": "code",
   "execution_count": 28,
   "id": "1b371ffd",
   "metadata": {},
   "outputs": [],
   "source": [
    "def BGD_fit(X, Y, theta, learning_rate, iterations):\n",
    "    m = X.shape[1] # number of instances\n",
    "    n = X.shape[0] # number of features including bias term\n",
    "    cost_history = np.zeros(iterations) # initializes an array to store cost at each iteration\n",
    "    \n",
    "    for i in range(iterations):\n",
    "        total_cost, cost_matrix = cost_function(X, Y, theta) # computes the total cost and cost matrix\n",
    "        batch_gradient = gradiant_function(X, cost_matrix) # computes the batch gradient\n",
    "        theta = theta + learning_rate * batch_gradient.T # updates the parameters\n",
    "        cost_history[i] = total_cost # stores the total cost for this iteration\n",
    "        \n",
    "    return theta, cost_history # returns the final parameters and the cost history"
   ]
  },
  {
   "cell_type": "markdown",
   "id": "a7e09860",
   "metadata": {},
   "source": [
    "#### Training the model"
   ]
  },
  {
   "cell_type": "code",
   "execution_count": 29,
   "id": "42451821",
   "metadata": {},
   "outputs": [],
   "source": [
    "pred_theta, cost_hist = BGD_fit(X_p, Y, theta, learning_rate=0.01, iterations=3500)"
   ]
  },
  {
   "cell_type": "code",
   "execution_count": 30,
   "id": "046f96f6",
   "metadata": {},
   "outputs": [
    {
     "name": "stdout",
     "output_type": "stream",
     "text": [
      "Prediction theta =\n",
      " [[9.81171212]\n",
      " [7.08649751]\n",
      " [9.07690417]] \n",
      "Original theta =\n",
      " [[10]\n",
      " [ 7]\n",
      " [ 9]]\n"
     ]
    }
   ],
   "source": [
    "print('Prediction theta =\\n',pred_theta, '\\nOriginal theta =\\n', Op_theta)"
   ]
  },
  {
   "cell_type": "markdown",
   "id": "bfff4df8",
   "metadata": {},
   "source": [
    "#### Prediction"
   ]
  },
  {
   "cell_type": "code",
   "execution_count": 31,
   "id": "8c5bbdb8",
   "metadata": {},
   "outputs": [
    {
     "data": {
      "text/plain": [
       "(5,)"
      ]
     },
     "execution_count": 31,
     "metadata": {},
     "output_type": "execute_result"
    }
   ],
   "source": [
    "cord = 5 # points for prediction plotting\n",
    "X_new = np.array([[0,0.75,1.25, 1.5, 2]]).reshape(cord) # Coordinates for prediction plotting\n",
    "X_new.shape\n"
   ]
  },
  {
   "cell_type": "code",
   "execution_count": 32,
   "id": "493437a6",
   "metadata": {},
   "outputs": [
    {
     "data": {
      "text/plain": [
       "array([ 9.81171212, 20.23234385, 32.85249677, 40.86449277, 60.29232383])"
      ]
     },
     "execution_count": 32,
     "metadata": {},
     "output_type": "execute_result"
    }
   ],
   "source": [
    "Y_pred = np.array([(pred_theta[0]+pred_theta[1]*X_new[0]+ pred_theta[2]*X_new[0]**2),\n",
    "                   (pred_theta[0]+pred_theta[1]*X_new[1]+ pred_theta[2]*X_new[1]**2),\n",
    "                   (pred_theta[0]+pred_theta[1]*X_new[2]+ pred_theta[2]*X_new[2]**2),\n",
    "                   (pred_theta[0]+pred_theta[1]*X_new[3]+ pred_theta[2]*X_new[3]**2),\n",
    "                   (pred_theta[0]+pred_theta[1]*X_new[4]+ pred_theta[2]*X_new[4]**2)]).reshape(cord) # predictions for all coordinates\n",
    "Y_pred"
   ]
  },
  {
   "cell_type": "code",
   "execution_count": 33,
   "id": "140cd430",
   "metadata": {},
   "outputs": [
    {
     "data": {
      "image/png": "[encoded data removed]",
      "text/plain": [
       "<Figure size 600x400 with 1 Axes>"
      ]
     },
     "metadata": {},
     "output_type": "display_data"
    }
   ],
   "source": [
    "import matplotlib.pyplot as plt\n",
    "\n",
    "plt.figure(figsize=(6, 4)) # the figure size is 6 inches by 4 inches\n",
    "plt.plot(X_new, Y_pred, \"r-\", label=\"Predictions\") # plots the prediction line\n",
    "plt.plot(X, Y, \"b.\") # plots the original data points\n",
    "\n",
    "plt.xlabel(\"$x_1$\") # sets the x-axis label\n",
    "plt.ylabel(\"$y$\", rotation=0) # sets the y-axis label\n",
    "plt.axis([0, 2, 0, 120]) # sets the x-axis from 0 to 2 and y-axis from 0 to 120\n",
    "plt.grid() # adds a grid to the plot\n",
    "plt.legend(loc=\"upper left\") # adds a legend to the plot\n",
    "save_fig(\"polynomial_model_predictions_plot\")\n",
    "plt.show()"
   ]
  },
  {
   "cell_type": "code",
   "execution_count": null,
   "id": "7db23221",
   "metadata": {},
   "outputs": [],
   "source": []
  }
 ],
 "metadata": {
  "kernelspec": {
   "display_name": "deep_learning",
   "language": "python",
   "name": "python3"
  },
  "language_info": {
   "codemirror_mode": {
    "name": "ipython",
    "version": 3
   },
   "file_extension": ".py",
   "mimetype": "text/x-python",
   "name": "python",
   "nbconvert_exporter": "python",
   "pygments_lexer": "ipython3",
   "version": "3.13.5"
  }
 },
 "nbformat": 4,
 "nbformat_minor": 5
}
